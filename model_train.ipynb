{
 "cells": [
  {
   "cell_type": "markdown",
   "metadata": {},
   "source": [
    "# Importieren der Libraries"
   ]
  },
  {
   "cell_type": "code",
   "execution_count": 1,
   "metadata": {},
   "outputs": [],
   "source": [
    "import pandas as pd\n",
    "import numpy as np\n",
    "import joblib\n",
    "\n",
    "from sklearn.ensemble import RandomForestClassifier\n",
    "from sklearn.neighbors import KNeighborsClassifier\n",
    "\n",
    "from sklearn.neighbors import KNeighborsClassifier\n",
    "from sklearn.metrics import accuracy_score, f1_score, confusion_matrix, roc_auc_score\n",
    "from sklearn.svm import SVC\n",
    "import xgboost as xgb\n",
    "\n",
    "from sklearn.preprocessing import label_binarize"
   ]
  },
  {
   "cell_type": "markdown",
   "metadata": {},
   "source": [
    "# Einlesen des Datensatzes"
   ]
  },
  {
   "cell_type": "code",
   "execution_count": 2,
   "metadata": {},
   "outputs": [
    {
     "name": "stderr",
     "output_type": "stream",
     "text": [
      "C:\\Users\\Katha\\AppData\\Local\\Temp\\ipykernel_7192\\3276224646.py:8: FutureWarning: In a future version of pandas, parsing datetimes with mixed time zones will raise an error unless `utc=True`. Please specify `utc=True` to opt in to the new behaviour and silence this warning. To create a `Series` with mixed offsets and `object` dtype, please use `apply` and `datetime.datetime.strptime`\n",
      "  df_tomorrow['Timestamp'] = pd.to_datetime(df_tomorrow['Formatted Date'])\n"
     ]
    }
   ],
   "source": [
    "df = pd.read_csv(\"data/weatherHistory.csv\")\n",
    "df_tomorrow=df\n",
    "df_tomorrow[\"Humidity\"]= df_tomorrow[\"Humidity\"]*100\n",
    "df_tomorrow = df_tomorrow.drop(columns=['Precip Type', \n",
    "       'Apparent Temperature (C)','Wind Speed (km/h)',\n",
    "       'Wind Bearing (degrees)', 'Visibility (km)', 'Loud Cover',\n",
    "       'Pressure (millibars)'])\n",
    "df_tomorrow['Timestamp'] = pd.to_datetime(df_tomorrow['Formatted Date'])"
   ]
  },
  {
   "cell_type": "markdown",
   "metadata": {},
   "source": [
    "# Vorhersage nächster Tag"
   ]
  },
  {
   "cell_type": "markdown",
   "metadata": {},
   "source": [
    "\n",
    "## Zielvariablen erstellen"
   ]
  },
  {
   "cell_type": "code",
   "execution_count": 3,
   "metadata": {},
   "outputs": [
    {
     "name": "stdout",
     "output_type": "stream",
     "text": [
      "[0 1]\n",
      "[1 0]\n",
      "[0 1]\n"
     ]
    },
    {
     "data": {
      "text/html": [
       "<div>\n",
       "<style scoped>\n",
       "    .dataframe tbody tr th:only-of-type {\n",
       "        vertical-align: middle;\n",
       "    }\n",
       "\n",
       "    .dataframe tbody tr th {\n",
       "        vertical-align: top;\n",
       "    }\n",
       "\n",
       "    .dataframe thead th {\n",
       "        text-align: right;\n",
       "    }\n",
       "</style>\n",
       "<table border=\"1\" class=\"dataframe\">\n",
       "  <thead>\n",
       "    <tr style=\"text-align: right;\">\n",
       "      <th></th>\n",
       "      <th>Formatted Date</th>\n",
       "      <th>Summary</th>\n",
       "      <th>Temperature (C)</th>\n",
       "      <th>Humidity</th>\n",
       "      <th>Daily Summary</th>\n",
       "      <th>Timestamp</th>\n",
       "      <th>Bad_weather</th>\n",
       "      <th>Good_weather</th>\n",
       "      <th>Rain</th>\n",
       "      <th>Weather</th>\n",
       "    </tr>\n",
       "  </thead>\n",
       "  <tbody>\n",
       "    <tr>\n",
       "      <th>0</th>\n",
       "      <td>2006-04-01 00:00:00.000 +0200</td>\n",
       "      <td>Partly Cloudy</td>\n",
       "      <td>9.472222</td>\n",
       "      <td>89.0</td>\n",
       "      <td>Partly cloudy throughout the day.</td>\n",
       "      <td>2006-04-01 00:00:00+02:00</td>\n",
       "      <td>0</td>\n",
       "      <td>1</td>\n",
       "      <td>0</td>\n",
       "      <td>0</td>\n",
       "    </tr>\n",
       "    <tr>\n",
       "      <th>1</th>\n",
       "      <td>2006-04-01 01:00:00.000 +0200</td>\n",
       "      <td>Partly Cloudy</td>\n",
       "      <td>9.355556</td>\n",
       "      <td>86.0</td>\n",
       "      <td>Partly cloudy throughout the day.</td>\n",
       "      <td>2006-04-01 01:00:00+02:00</td>\n",
       "      <td>0</td>\n",
       "      <td>1</td>\n",
       "      <td>0</td>\n",
       "      <td>0</td>\n",
       "    </tr>\n",
       "    <tr>\n",
       "      <th>2</th>\n",
       "      <td>2006-04-01 02:00:00.000 +0200</td>\n",
       "      <td>Mostly Cloudy</td>\n",
       "      <td>9.377778</td>\n",
       "      <td>89.0</td>\n",
       "      <td>Partly cloudy throughout the day.</td>\n",
       "      <td>2006-04-01 02:00:00+02:00</td>\n",
       "      <td>0</td>\n",
       "      <td>1</td>\n",
       "      <td>0</td>\n",
       "      <td>0</td>\n",
       "    </tr>\n",
       "    <tr>\n",
       "      <th>3</th>\n",
       "      <td>2006-04-01 03:00:00.000 +0200</td>\n",
       "      <td>Partly Cloudy</td>\n",
       "      <td>8.288889</td>\n",
       "      <td>83.0</td>\n",
       "      <td>Partly cloudy throughout the day.</td>\n",
       "      <td>2006-04-01 03:00:00+02:00</td>\n",
       "      <td>0</td>\n",
       "      <td>1</td>\n",
       "      <td>0</td>\n",
       "      <td>0</td>\n",
       "    </tr>\n",
       "    <tr>\n",
       "      <th>4</th>\n",
       "      <td>2006-04-01 04:00:00.000 +0200</td>\n",
       "      <td>Mostly Cloudy</td>\n",
       "      <td>8.755556</td>\n",
       "      <td>83.0</td>\n",
       "      <td>Partly cloudy throughout the day.</td>\n",
       "      <td>2006-04-01 04:00:00+02:00</td>\n",
       "      <td>0</td>\n",
       "      <td>1</td>\n",
       "      <td>0</td>\n",
       "      <td>0</td>\n",
       "    </tr>\n",
       "    <tr>\n",
       "      <th>...</th>\n",
       "      <td>...</td>\n",
       "      <td>...</td>\n",
       "      <td>...</td>\n",
       "      <td>...</td>\n",
       "      <td>...</td>\n",
       "      <td>...</td>\n",
       "      <td>...</td>\n",
       "      <td>...</td>\n",
       "      <td>...</td>\n",
       "      <td>...</td>\n",
       "    </tr>\n",
       "    <tr>\n",
       "      <th>96448</th>\n",
       "      <td>2016-09-09 19:00:00.000 +0200</td>\n",
       "      <td>Partly Cloudy</td>\n",
       "      <td>26.016667</td>\n",
       "      <td>43.0</td>\n",
       "      <td>Partly cloudy starting in the morning.</td>\n",
       "      <td>2016-09-09 19:00:00+02:00</td>\n",
       "      <td>0</td>\n",
       "      <td>1</td>\n",
       "      <td>0</td>\n",
       "      <td>0</td>\n",
       "    </tr>\n",
       "    <tr>\n",
       "      <th>96449</th>\n",
       "      <td>2016-09-09 20:00:00.000 +0200</td>\n",
       "      <td>Partly Cloudy</td>\n",
       "      <td>24.583333</td>\n",
       "      <td>48.0</td>\n",
       "      <td>Partly cloudy starting in the morning.</td>\n",
       "      <td>2016-09-09 20:00:00+02:00</td>\n",
       "      <td>0</td>\n",
       "      <td>1</td>\n",
       "      <td>0</td>\n",
       "      <td>0</td>\n",
       "    </tr>\n",
       "    <tr>\n",
       "      <th>96450</th>\n",
       "      <td>2016-09-09 21:00:00.000 +0200</td>\n",
       "      <td>Partly Cloudy</td>\n",
       "      <td>22.038889</td>\n",
       "      <td>56.0</td>\n",
       "      <td>Partly cloudy starting in the morning.</td>\n",
       "      <td>2016-09-09 21:00:00+02:00</td>\n",
       "      <td>0</td>\n",
       "      <td>1</td>\n",
       "      <td>0</td>\n",
       "      <td>0</td>\n",
       "    </tr>\n",
       "    <tr>\n",
       "      <th>96451</th>\n",
       "      <td>2016-09-09 22:00:00.000 +0200</td>\n",
       "      <td>Partly Cloudy</td>\n",
       "      <td>21.522222</td>\n",
       "      <td>60.0</td>\n",
       "      <td>Partly cloudy starting in the morning.</td>\n",
       "      <td>2016-09-09 22:00:00+02:00</td>\n",
       "      <td>0</td>\n",
       "      <td>1</td>\n",
       "      <td>0</td>\n",
       "      <td>0</td>\n",
       "    </tr>\n",
       "    <tr>\n",
       "      <th>96452</th>\n",
       "      <td>2016-09-09 23:00:00.000 +0200</td>\n",
       "      <td>Partly Cloudy</td>\n",
       "      <td>20.438889</td>\n",
       "      <td>61.0</td>\n",
       "      <td>Partly cloudy starting in the morning.</td>\n",
       "      <td>2016-09-09 23:00:00+02:00</td>\n",
       "      <td>0</td>\n",
       "      <td>1</td>\n",
       "      <td>0</td>\n",
       "      <td>0</td>\n",
       "    </tr>\n",
       "  </tbody>\n",
       "</table>\n",
       "<p>96453 rows × 10 columns</p>\n",
       "</div>"
      ],
      "text/plain": [
       "                      Formatted Date        Summary  Temperature (C)  \\\n",
       "0      2006-04-01 00:00:00.000 +0200  Partly Cloudy         9.472222   \n",
       "1      2006-04-01 01:00:00.000 +0200  Partly Cloudy         9.355556   \n",
       "2      2006-04-01 02:00:00.000 +0200  Mostly Cloudy         9.377778   \n",
       "3      2006-04-01 03:00:00.000 +0200  Partly Cloudy         8.288889   \n",
       "4      2006-04-01 04:00:00.000 +0200  Mostly Cloudy         8.755556   \n",
       "...                              ...            ...              ...   \n",
       "96448  2016-09-09 19:00:00.000 +0200  Partly Cloudy        26.016667   \n",
       "96449  2016-09-09 20:00:00.000 +0200  Partly Cloudy        24.583333   \n",
       "96450  2016-09-09 21:00:00.000 +0200  Partly Cloudy        22.038889   \n",
       "96451  2016-09-09 22:00:00.000 +0200  Partly Cloudy        21.522222   \n",
       "96452  2016-09-09 23:00:00.000 +0200  Partly Cloudy        20.438889   \n",
       "\n",
       "       Humidity                           Daily Summary  \\\n",
       "0          89.0       Partly cloudy throughout the day.   \n",
       "1          86.0       Partly cloudy throughout the day.   \n",
       "2          89.0       Partly cloudy throughout the day.   \n",
       "3          83.0       Partly cloudy throughout the day.   \n",
       "4          83.0       Partly cloudy throughout the day.   \n",
       "...         ...                                     ...   \n",
       "96448      43.0  Partly cloudy starting in the morning.   \n",
       "96449      48.0  Partly cloudy starting in the morning.   \n",
       "96450      56.0  Partly cloudy starting in the morning.   \n",
       "96451      60.0  Partly cloudy starting in the morning.   \n",
       "96452      61.0  Partly cloudy starting in the morning.   \n",
       "\n",
       "                       Timestamp  Bad_weather  Good_weather  Rain  Weather  \n",
       "0      2006-04-01 00:00:00+02:00            0             1     0        0  \n",
       "1      2006-04-01 01:00:00+02:00            0             1     0        0  \n",
       "2      2006-04-01 02:00:00+02:00            0             1     0        0  \n",
       "3      2006-04-01 03:00:00+02:00            0             1     0        0  \n",
       "4      2006-04-01 04:00:00+02:00            0             1     0        0  \n",
       "...                          ...          ...           ...   ...      ...  \n",
       "96448  2016-09-09 19:00:00+02:00            0             1     0        0  \n",
       "96449  2016-09-09 20:00:00+02:00            0             1     0        0  \n",
       "96450  2016-09-09 21:00:00+02:00            0             1     0        0  \n",
       "96451  2016-09-09 22:00:00+02:00            0             1     0        0  \n",
       "96452  2016-09-09 23:00:00+02:00            0             1     0        0  \n",
       "\n",
       "[96453 rows x 10 columns]"
      ]
     },
     "execution_count": 3,
     "metadata": {},
     "output_type": "execute_result"
    }
   ],
   "source": [
    "# Function to classify bad weather\n",
    "#If Rain, then value 1 if not then value 0\n",
    "def classify_bad_weather(summary):\n",
    "    if 'rain' in summary.lower() or \"dizzle\" in summary.lower() or \"storm\" in summary.lower() or \"windy\" in summary.lower():\n",
    "        return 1\n",
    "    return 0\n",
    "\n",
    "# Apply function to create new column\n",
    "df_tomorrow['Bad_weather'] = df_tomorrow['Daily Summary'].apply(classify_bad_weather)\n",
    "\n",
    "# Display the DataFrame\n",
    "print(df_tomorrow[\"Bad_weather\"].unique())\n",
    "\n",
    "# Function to classify good weather\n",
    "#If Rain, then value 1 if not then value 0\n",
    "def classify_good_weather(summary):\n",
    "    if 'clear' in summary.lower() or \"partly cloudy\" in summary.lower():\n",
    "        return 1\n",
    "    return 0\n",
    "\n",
    "# Apply function to create new column\n",
    "df_tomorrow['Good_weather'] = df_tomorrow['Daily Summary'].apply(classify_good_weather)\n",
    "\n",
    "# Display the DataFrame\n",
    "print(df_tomorrow[\"Good_weather\"].unique())\n",
    "df_tomorrow\n",
    "\n",
    "# Function to classify rain\n",
    "#If Rain, then value 1 if not then value 0\n",
    "def classify_rain(summary):\n",
    "    if 'rain' in summary.lower():\n",
    "        return 1\n",
    "    return 0\n",
    "\n",
    "# Apply function to create new column\n",
    "df_tomorrow['Rain'] = df_tomorrow['Daily Summary'].apply(classify_rain)\n",
    "\n",
    "# Display the DataFrame\n",
    "print(df_tomorrow[\"Rain\"].unique())\n",
    "\n",
    "# Funktion zur Klassifizierung\n",
    "def classify_weather(row):\n",
    "    if row['Good_weather'] == 1:\n",
    "        return 0\n",
    "    elif row['Bad_weather'] == 1:\n",
    "        return 2\n",
    "    else:\n",
    "        return 1\n",
    "\n",
    "# Neue Spalte basierend auf der Klassifizierungsfunktion erstellen\n",
    "df_tomorrow['Weather'] = df_tomorrow.apply(classify_weather, axis=1)\n",
    "\n",
    "# Ergebnis anzeigen\n",
    "df_tomorrow"
   ]
  },
  {
   "cell_type": "markdown",
   "metadata": {},
   "source": [
    "## Aufbereiten des Datensatzes"
   ]
  },
  {
   "cell_type": "code",
   "execution_count": 4,
   "metadata": {},
   "outputs": [
    {
     "name": "stdout",
     "output_type": "stream",
     "text": [
      "96405\n",
      "96405\n"
     ]
    },
    {
     "data": {
      "text/html": [
       "<div>\n",
       "<style scoped>\n",
       "    .dataframe tbody tr th:only-of-type {\n",
       "        vertical-align: middle;\n",
       "    }\n",
       "\n",
       "    .dataframe tbody tr th {\n",
       "        vertical-align: top;\n",
       "    }\n",
       "\n",
       "    .dataframe thead th {\n",
       "        text-align: right;\n",
       "    }\n",
       "</style>\n",
       "<table border=\"1\" class=\"dataframe\">\n",
       "  <thead>\n",
       "    <tr style=\"text-align: right;\">\n",
       "      <th></th>\n",
       "      <th>Temperature (C)</th>\n",
       "      <th>Humidity</th>\n",
       "    </tr>\n",
       "  </thead>\n",
       "  <tbody>\n",
       "    <tr>\n",
       "      <th>0</th>\n",
       "      <td>10.422222</td>\n",
       "      <td>62.0</td>\n",
       "    </tr>\n",
       "    <tr>\n",
       "      <th>1</th>\n",
       "      <td>9.911111</td>\n",
       "      <td>66.0</td>\n",
       "    </tr>\n",
       "    <tr>\n",
       "      <th>2</th>\n",
       "      <td>11.183333</td>\n",
       "      <td>80.0</td>\n",
       "    </tr>\n",
       "    <tr>\n",
       "      <th>3</th>\n",
       "      <td>7.155556</td>\n",
       "      <td>79.0</td>\n",
       "    </tr>\n",
       "    <tr>\n",
       "      <th>4</th>\n",
       "      <td>6.111111</td>\n",
       "      <td>82.0</td>\n",
       "    </tr>\n",
       "    <tr>\n",
       "      <th>...</th>\n",
       "      <td>...</td>\n",
       "      <td>...</td>\n",
       "    </tr>\n",
       "    <tr>\n",
       "      <th>96400</th>\n",
       "      <td>24.905556</td>\n",
       "      <td>51.0</td>\n",
       "    </tr>\n",
       "    <tr>\n",
       "      <th>96401</th>\n",
       "      <td>22.366667</td>\n",
       "      <td>58.0</td>\n",
       "    </tr>\n",
       "    <tr>\n",
       "      <th>96402</th>\n",
       "      <td>21.016667</td>\n",
       "      <td>64.0</td>\n",
       "    </tr>\n",
       "    <tr>\n",
       "      <th>96403</th>\n",
       "      <td>19.927778</td>\n",
       "      <td>71.0</td>\n",
       "    </tr>\n",
       "    <tr>\n",
       "      <th>96404</th>\n",
       "      <td>18.350000</td>\n",
       "      <td>77.0</td>\n",
       "    </tr>\n",
       "  </tbody>\n",
       "</table>\n",
       "<p>96405 rows × 2 columns</p>\n",
       "</div>"
      ],
      "text/plain": [
       "       Temperature (C)  Humidity\n",
       "0            10.422222      62.0\n",
       "1             9.911111      66.0\n",
       "2            11.183333      80.0\n",
       "3             7.155556      79.0\n",
       "4             6.111111      82.0\n",
       "...                ...       ...\n",
       "96400        24.905556      51.0\n",
       "96401        22.366667      58.0\n",
       "96402        21.016667      64.0\n",
       "96403        19.927778      71.0\n",
       "96404        18.350000      77.0\n",
       "\n",
       "[96405 rows x 2 columns]"
      ]
     },
     "execution_count": 4,
     "metadata": {},
     "output_type": "execute_result"
    }
   ],
   "source": [
    "#Im datensatz fehlen der 02.04.2006-09.04.2006, deswegen wird der erste Tag abgeschnitten\n",
    "\n",
    "df_naechster_tag = df_tomorrow.iloc[48:]\n",
    "df_erster_tag =df_tomorrow.iloc[24:-24]\n",
    "print(len(df_erster_tag))\n",
    "print(len(df_naechster_tag))\n",
    "df_erster_tag = df_erster_tag.reset_index()\n",
    "df_naechster_tag = df_naechster_tag.reset_index()\n",
    "\n",
    "df_erster_tag = df_erster_tag.drop(columns=[\"Formatted Date\", \"index\",'Summary','Daily Summary','Timestamp',\"Bad_weather\", \"Good_weather\", \"Rain\", \"Weather\"])\n",
    "#df_erster_tag = df_erster_tag.drop(columns=[\"Bad_weather\", \"Good_weather\", \"Rain\", \"Weather\"])\n",
    "df_erster_tag"
   ]
  },
  {
   "cell_type": "code",
   "execution_count": 5,
   "metadata": {},
   "outputs": [
    {
     "data": {
      "text/html": [
       "<div>\n",
       "<style scoped>\n",
       "    .dataframe tbody tr th:only-of-type {\n",
       "        vertical-align: middle;\n",
       "    }\n",
       "\n",
       "    .dataframe tbody tr th {\n",
       "        vertical-align: top;\n",
       "    }\n",
       "\n",
       "    .dataframe thead th {\n",
       "        text-align: right;\n",
       "    }\n",
       "</style>\n",
       "<table border=\"1\" class=\"dataframe\">\n",
       "  <thead>\n",
       "    <tr style=\"text-align: right;\">\n",
       "      <th></th>\n",
       "      <th>Formatted Date</th>\n",
       "      <th>Summary</th>\n",
       "      <th>Temperature (C)</th>\n",
       "      <th>Humidity</th>\n",
       "      <th>Daily Summary</th>\n",
       "      <th>Timestamp</th>\n",
       "      <th>Bad_weather</th>\n",
       "      <th>Good_weather</th>\n",
       "      <th>Rain</th>\n",
       "      <th>Weather</th>\n",
       "    </tr>\n",
       "  </thead>\n",
       "  <tbody>\n",
       "    <tr>\n",
       "      <th>0</th>\n",
       "      <td>2006-04-01 00:00:00.000 +0200</td>\n",
       "      <td>Partly Cloudy</td>\n",
       "      <td>9.472222</td>\n",
       "      <td>89.0</td>\n",
       "      <td>Partly cloudy throughout the day.</td>\n",
       "      <td>2006-04-01 00:00:00+02:00</td>\n",
       "      <td>0</td>\n",
       "      <td>1</td>\n",
       "      <td>0</td>\n",
       "      <td>0</td>\n",
       "    </tr>\n",
       "    <tr>\n",
       "      <th>1</th>\n",
       "      <td>2006-04-01 01:00:00.000 +0200</td>\n",
       "      <td>Partly Cloudy</td>\n",
       "      <td>9.355556</td>\n",
       "      <td>86.0</td>\n",
       "      <td>Partly cloudy throughout the day.</td>\n",
       "      <td>2006-04-01 01:00:00+02:00</td>\n",
       "      <td>0</td>\n",
       "      <td>1</td>\n",
       "      <td>0</td>\n",
       "      <td>0</td>\n",
       "    </tr>\n",
       "    <tr>\n",
       "      <th>2</th>\n",
       "      <td>2006-04-01 02:00:00.000 +0200</td>\n",
       "      <td>Mostly Cloudy</td>\n",
       "      <td>9.377778</td>\n",
       "      <td>89.0</td>\n",
       "      <td>Partly cloudy throughout the day.</td>\n",
       "      <td>2006-04-01 02:00:00+02:00</td>\n",
       "      <td>0</td>\n",
       "      <td>1</td>\n",
       "      <td>0</td>\n",
       "      <td>0</td>\n",
       "    </tr>\n",
       "    <tr>\n",
       "      <th>3</th>\n",
       "      <td>2006-04-01 03:00:00.000 +0200</td>\n",
       "      <td>Partly Cloudy</td>\n",
       "      <td>8.288889</td>\n",
       "      <td>83.0</td>\n",
       "      <td>Partly cloudy throughout the day.</td>\n",
       "      <td>2006-04-01 03:00:00+02:00</td>\n",
       "      <td>0</td>\n",
       "      <td>1</td>\n",
       "      <td>0</td>\n",
       "      <td>0</td>\n",
       "    </tr>\n",
       "    <tr>\n",
       "      <th>4</th>\n",
       "      <td>2006-04-01 04:00:00.000 +0200</td>\n",
       "      <td>Mostly Cloudy</td>\n",
       "      <td>8.755556</td>\n",
       "      <td>83.0</td>\n",
       "      <td>Partly cloudy throughout the day.</td>\n",
       "      <td>2006-04-01 04:00:00+02:00</td>\n",
       "      <td>0</td>\n",
       "      <td>1</td>\n",
       "      <td>0</td>\n",
       "      <td>0</td>\n",
       "    </tr>\n",
       "    <tr>\n",
       "      <th>...</th>\n",
       "      <td>...</td>\n",
       "      <td>...</td>\n",
       "      <td>...</td>\n",
       "      <td>...</td>\n",
       "      <td>...</td>\n",
       "      <td>...</td>\n",
       "      <td>...</td>\n",
       "      <td>...</td>\n",
       "      <td>...</td>\n",
       "      <td>...</td>\n",
       "    </tr>\n",
       "    <tr>\n",
       "      <th>96448</th>\n",
       "      <td>2016-09-09 19:00:00.000 +0200</td>\n",
       "      <td>Partly Cloudy</td>\n",
       "      <td>26.016667</td>\n",
       "      <td>43.0</td>\n",
       "      <td>Partly cloudy starting in the morning.</td>\n",
       "      <td>2016-09-09 19:00:00+02:00</td>\n",
       "      <td>0</td>\n",
       "      <td>1</td>\n",
       "      <td>0</td>\n",
       "      <td>0</td>\n",
       "    </tr>\n",
       "    <tr>\n",
       "      <th>96449</th>\n",
       "      <td>2016-09-09 20:00:00.000 +0200</td>\n",
       "      <td>Partly Cloudy</td>\n",
       "      <td>24.583333</td>\n",
       "      <td>48.0</td>\n",
       "      <td>Partly cloudy starting in the morning.</td>\n",
       "      <td>2016-09-09 20:00:00+02:00</td>\n",
       "      <td>0</td>\n",
       "      <td>1</td>\n",
       "      <td>0</td>\n",
       "      <td>0</td>\n",
       "    </tr>\n",
       "    <tr>\n",
       "      <th>96450</th>\n",
       "      <td>2016-09-09 21:00:00.000 +0200</td>\n",
       "      <td>Partly Cloudy</td>\n",
       "      <td>22.038889</td>\n",
       "      <td>56.0</td>\n",
       "      <td>Partly cloudy starting in the morning.</td>\n",
       "      <td>2016-09-09 21:00:00+02:00</td>\n",
       "      <td>0</td>\n",
       "      <td>1</td>\n",
       "      <td>0</td>\n",
       "      <td>0</td>\n",
       "    </tr>\n",
       "    <tr>\n",
       "      <th>96451</th>\n",
       "      <td>2016-09-09 22:00:00.000 +0200</td>\n",
       "      <td>Partly Cloudy</td>\n",
       "      <td>21.522222</td>\n",
       "      <td>60.0</td>\n",
       "      <td>Partly cloudy starting in the morning.</td>\n",
       "      <td>2016-09-09 22:00:00+02:00</td>\n",
       "      <td>0</td>\n",
       "      <td>1</td>\n",
       "      <td>0</td>\n",
       "      <td>0</td>\n",
       "    </tr>\n",
       "    <tr>\n",
       "      <th>96452</th>\n",
       "      <td>2016-09-09 23:00:00.000 +0200</td>\n",
       "      <td>Partly Cloudy</td>\n",
       "      <td>20.438889</td>\n",
       "      <td>61.0</td>\n",
       "      <td>Partly cloudy starting in the morning.</td>\n",
       "      <td>2016-09-09 23:00:00+02:00</td>\n",
       "      <td>0</td>\n",
       "      <td>1</td>\n",
       "      <td>0</td>\n",
       "      <td>0</td>\n",
       "    </tr>\n",
       "  </tbody>\n",
       "</table>\n",
       "<p>96453 rows × 10 columns</p>\n",
       "</div>"
      ],
      "text/plain": [
       "                      Formatted Date        Summary  Temperature (C)  \\\n",
       "0      2006-04-01 00:00:00.000 +0200  Partly Cloudy         9.472222   \n",
       "1      2006-04-01 01:00:00.000 +0200  Partly Cloudy         9.355556   \n",
       "2      2006-04-01 02:00:00.000 +0200  Mostly Cloudy         9.377778   \n",
       "3      2006-04-01 03:00:00.000 +0200  Partly Cloudy         8.288889   \n",
       "4      2006-04-01 04:00:00.000 +0200  Mostly Cloudy         8.755556   \n",
       "...                              ...            ...              ...   \n",
       "96448  2016-09-09 19:00:00.000 +0200  Partly Cloudy        26.016667   \n",
       "96449  2016-09-09 20:00:00.000 +0200  Partly Cloudy        24.583333   \n",
       "96450  2016-09-09 21:00:00.000 +0200  Partly Cloudy        22.038889   \n",
       "96451  2016-09-09 22:00:00.000 +0200  Partly Cloudy        21.522222   \n",
       "96452  2016-09-09 23:00:00.000 +0200  Partly Cloudy        20.438889   \n",
       "\n",
       "       Humidity                           Daily Summary  \\\n",
       "0          89.0       Partly cloudy throughout the day.   \n",
       "1          86.0       Partly cloudy throughout the day.   \n",
       "2          89.0       Partly cloudy throughout the day.   \n",
       "3          83.0       Partly cloudy throughout the day.   \n",
       "4          83.0       Partly cloudy throughout the day.   \n",
       "...         ...                                     ...   \n",
       "96448      43.0  Partly cloudy starting in the morning.   \n",
       "96449      48.0  Partly cloudy starting in the morning.   \n",
       "96450      56.0  Partly cloudy starting in the morning.   \n",
       "96451      60.0  Partly cloudy starting in the morning.   \n",
       "96452      61.0  Partly cloudy starting in the morning.   \n",
       "\n",
       "                       Timestamp  Bad_weather  Good_weather  Rain  Weather  \n",
       "0      2006-04-01 00:00:00+02:00            0             1     0        0  \n",
       "1      2006-04-01 01:00:00+02:00            0             1     0        0  \n",
       "2      2006-04-01 02:00:00+02:00            0             1     0        0  \n",
       "3      2006-04-01 03:00:00+02:00            0             1     0        0  \n",
       "4      2006-04-01 04:00:00+02:00            0             1     0        0  \n",
       "...                          ...          ...           ...   ...      ...  \n",
       "96448  2016-09-09 19:00:00+02:00            0             1     0        0  \n",
       "96449  2016-09-09 20:00:00+02:00            0             1     0        0  \n",
       "96450  2016-09-09 21:00:00+02:00            0             1     0        0  \n",
       "96451  2016-09-09 22:00:00+02:00            0             1     0        0  \n",
       "96452  2016-09-09 23:00:00+02:00            0             1     0        0  \n",
       "\n",
       "[96453 rows x 10 columns]"
      ]
     },
     "execution_count": 5,
     "metadata": {},
     "output_type": "execute_result"
    }
   ],
   "source": [
    "df_tomorrow"
   ]
  },
  {
   "cell_type": "markdown",
   "metadata": {},
   "source": [
    "## Visualisieren des Datensatzes"
   ]
  },
  {
   "cell_type": "code",
   "execution_count": 6,
   "metadata": {},
   "outputs": [
    {
     "data": {
      "text/html": [
       "<div>\n",
       "<style scoped>\n",
       "    .dataframe tbody tr th:only-of-type {\n",
       "        vertical-align: middle;\n",
       "    }\n",
       "\n",
       "    .dataframe tbody tr th {\n",
       "        vertical-align: top;\n",
       "    }\n",
       "\n",
       "    .dataframe thead th {\n",
       "        text-align: right;\n",
       "    }\n",
       "</style>\n",
       "<table border=\"1\" class=\"dataframe\">\n",
       "  <thead>\n",
       "    <tr style=\"text-align: right;\">\n",
       "      <th></th>\n",
       "      <th>Formatted Date</th>\n",
       "      <th>Summary</th>\n",
       "      <th>Temperature (C)</th>\n",
       "      <th>Humidity</th>\n",
       "      <th>Daily Summary</th>\n",
       "      <th>Timestamp</th>\n",
       "      <th>Bad_weather</th>\n",
       "      <th>Good_weather</th>\n",
       "      <th>Rain</th>\n",
       "      <th>Weather</th>\n",
       "    </tr>\n",
       "  </thead>\n",
       "  <tbody>\n",
       "    <tr>\n",
       "      <th>52680</th>\n",
       "      <td>2012-04-12 00:00:00.000 +0200</td>\n",
       "      <td>Mostly Cloudy</td>\n",
       "      <td>10.100000</td>\n",
       "      <td>61.0</td>\n",
       "      <td>Light rain in the morning.</td>\n",
       "      <td>2012-04-12 00:00:00+02:00</td>\n",
       "      <td>1</td>\n",
       "      <td>0</td>\n",
       "      <td>1</td>\n",
       "      <td>2</td>\n",
       "    </tr>\n",
       "    <tr>\n",
       "      <th>52681</th>\n",
       "      <td>2012-04-12 01:00:00.000 +0200</td>\n",
       "      <td>Partly Cloudy</td>\n",
       "      <td>10.183333</td>\n",
       "      <td>64.0</td>\n",
       "      <td>Light rain in the morning.</td>\n",
       "      <td>2012-04-12 01:00:00+02:00</td>\n",
       "      <td>1</td>\n",
       "      <td>0</td>\n",
       "      <td>1</td>\n",
       "      <td>2</td>\n",
       "    </tr>\n",
       "    <tr>\n",
       "      <th>52682</th>\n",
       "      <td>2012-04-12 02:00:00.000 +0200</td>\n",
       "      <td>Mostly Cloudy</td>\n",
       "      <td>10.350000</td>\n",
       "      <td>64.0</td>\n",
       "      <td>Light rain in the morning.</td>\n",
       "      <td>2012-04-12 02:00:00+02:00</td>\n",
       "      <td>1</td>\n",
       "      <td>0</td>\n",
       "      <td>1</td>\n",
       "      <td>2</td>\n",
       "    </tr>\n",
       "    <tr>\n",
       "      <th>52683</th>\n",
       "      <td>2012-04-12 03:00:00.000 +0200</td>\n",
       "      <td>Mostly Cloudy</td>\n",
       "      <td>10.700000</td>\n",
       "      <td>70.0</td>\n",
       "      <td>Light rain in the morning.</td>\n",
       "      <td>2012-04-12 03:00:00+02:00</td>\n",
       "      <td>1</td>\n",
       "      <td>0</td>\n",
       "      <td>1</td>\n",
       "      <td>2</td>\n",
       "    </tr>\n",
       "    <tr>\n",
       "      <th>52684</th>\n",
       "      <td>2012-04-12 04:00:00.000 +0200</td>\n",
       "      <td>Partly Cloudy</td>\n",
       "      <td>9.744444</td>\n",
       "      <td>73.0</td>\n",
       "      <td>Light rain in the morning.</td>\n",
       "      <td>2012-04-12 04:00:00+02:00</td>\n",
       "      <td>1</td>\n",
       "      <td>0</td>\n",
       "      <td>1</td>\n",
       "      <td>2</td>\n",
       "    </tr>\n",
       "    <tr>\n",
       "      <th>...</th>\n",
       "      <td>...</td>\n",
       "      <td>...</td>\n",
       "      <td>...</td>\n",
       "      <td>...</td>\n",
       "      <td>...</td>\n",
       "      <td>...</td>\n",
       "      <td>...</td>\n",
       "      <td>...</td>\n",
       "      <td>...</td>\n",
       "      <td>...</td>\n",
       "    </tr>\n",
       "    <tr>\n",
       "      <th>95439</th>\n",
       "      <td>2016-10-26 19:00:00.000 +0200</td>\n",
       "      <td>Mostly Cloudy</td>\n",
       "      <td>10.555556</td>\n",
       "      <td>82.0</td>\n",
       "      <td>Rain until afternoon.</td>\n",
       "      <td>2016-10-26 19:00:00+02:00</td>\n",
       "      <td>1</td>\n",
       "      <td>0</td>\n",
       "      <td>1</td>\n",
       "      <td>2</td>\n",
       "    </tr>\n",
       "    <tr>\n",
       "      <th>95440</th>\n",
       "      <td>2016-10-26 20:00:00.000 +0200</td>\n",
       "      <td>Mostly Cloudy</td>\n",
       "      <td>9.733333</td>\n",
       "      <td>83.0</td>\n",
       "      <td>Rain until afternoon.</td>\n",
       "      <td>2016-10-26 20:00:00+02:00</td>\n",
       "      <td>1</td>\n",
       "      <td>0</td>\n",
       "      <td>1</td>\n",
       "      <td>2</td>\n",
       "    </tr>\n",
       "    <tr>\n",
       "      <th>95441</th>\n",
       "      <td>2016-10-26 21:00:00.000 +0200</td>\n",
       "      <td>Partly Cloudy</td>\n",
       "      <td>9.005556</td>\n",
       "      <td>83.0</td>\n",
       "      <td>Rain until afternoon.</td>\n",
       "      <td>2016-10-26 21:00:00+02:00</td>\n",
       "      <td>1</td>\n",
       "      <td>0</td>\n",
       "      <td>1</td>\n",
       "      <td>2</td>\n",
       "    </tr>\n",
       "    <tr>\n",
       "      <th>95442</th>\n",
       "      <td>2016-10-26 22:00:00.000 +0200</td>\n",
       "      <td>Clear</td>\n",
       "      <td>8.205556</td>\n",
       "      <td>83.0</td>\n",
       "      <td>Rain until afternoon.</td>\n",
       "      <td>2016-10-26 22:00:00+02:00</td>\n",
       "      <td>1</td>\n",
       "      <td>0</td>\n",
       "      <td>1</td>\n",
       "      <td>2</td>\n",
       "    </tr>\n",
       "    <tr>\n",
       "      <th>95443</th>\n",
       "      <td>2016-10-26 23:00:00.000 +0200</td>\n",
       "      <td>Clear</td>\n",
       "      <td>7.300000</td>\n",
       "      <td>84.0</td>\n",
       "      <td>Rain until afternoon.</td>\n",
       "      <td>2016-10-26 23:00:00+02:00</td>\n",
       "      <td>1</td>\n",
       "      <td>0</td>\n",
       "      <td>1</td>\n",
       "      <td>2</td>\n",
       "    </tr>\n",
       "  </tbody>\n",
       "</table>\n",
       "<p>192 rows × 10 columns</p>\n",
       "</div>"
      ],
      "text/plain": [
       "                      Formatted Date        Summary  Temperature (C)  \\\n",
       "52680  2012-04-12 00:00:00.000 +0200  Mostly Cloudy        10.100000   \n",
       "52681  2012-04-12 01:00:00.000 +0200  Partly Cloudy        10.183333   \n",
       "52682  2012-04-12 02:00:00.000 +0200  Mostly Cloudy        10.350000   \n",
       "52683  2012-04-12 03:00:00.000 +0200  Mostly Cloudy        10.700000   \n",
       "52684  2012-04-12 04:00:00.000 +0200  Partly Cloudy         9.744444   \n",
       "...                              ...            ...              ...   \n",
       "95439  2016-10-26 19:00:00.000 +0200  Mostly Cloudy        10.555556   \n",
       "95440  2016-10-26 20:00:00.000 +0200  Mostly Cloudy         9.733333   \n",
       "95441  2016-10-26 21:00:00.000 +0200  Partly Cloudy         9.005556   \n",
       "95442  2016-10-26 22:00:00.000 +0200          Clear         8.205556   \n",
       "95443  2016-10-26 23:00:00.000 +0200          Clear         7.300000   \n",
       "\n",
       "       Humidity               Daily Summary                  Timestamp  \\\n",
       "52680      61.0  Light rain in the morning.  2012-04-12 00:00:00+02:00   \n",
       "52681      64.0  Light rain in the morning.  2012-04-12 01:00:00+02:00   \n",
       "52682      64.0  Light rain in the morning.  2012-04-12 02:00:00+02:00   \n",
       "52683      70.0  Light rain in the morning.  2012-04-12 03:00:00+02:00   \n",
       "52684      73.0  Light rain in the morning.  2012-04-12 04:00:00+02:00   \n",
       "...         ...                         ...                        ...   \n",
       "95439      82.0       Rain until afternoon.  2016-10-26 19:00:00+02:00   \n",
       "95440      83.0       Rain until afternoon.  2016-10-26 20:00:00+02:00   \n",
       "95441      83.0       Rain until afternoon.  2016-10-26 21:00:00+02:00   \n",
       "95442      83.0       Rain until afternoon.  2016-10-26 22:00:00+02:00   \n",
       "95443      84.0       Rain until afternoon.  2016-10-26 23:00:00+02:00   \n",
       "\n",
       "       Bad_weather  Good_weather  Rain  Weather  \n",
       "52680            1             0     1        2  \n",
       "52681            1             0     1        2  \n",
       "52682            1             0     1        2  \n",
       "52683            1             0     1        2  \n",
       "52684            1             0     1        2  \n",
       "...            ...           ...   ...      ...  \n",
       "95439            1             0     1        2  \n",
       "95440            1             0     1        2  \n",
       "95441            1             0     1        2  \n",
       "95442            1             0     1        2  \n",
       "95443            1             0     1        2  \n",
       "\n",
       "[192 rows x 10 columns]"
      ]
     },
     "execution_count": 6,
     "metadata": {},
     "output_type": "execute_result"
    }
   ],
   "source": [
    "df_tomorrow.loc[df_tomorrow[\"Rain\"]==1]"
   ]
  },
  {
   "cell_type": "markdown",
   "metadata": {},
   "source": [
    "## Splitten in Test und Training"
   ]
  },
  {
   "cell_type": "code",
   "execution_count": 7,
   "metadata": {},
   "outputs": [
    {
     "name": "stdout",
     "output_type": "stream",
     "text": [
      "Trainingsdaten: (67483, 2), Trainingslabel: (67483,)\n",
      "Testdaten: (28922, 2), Testlabel: (28922,)\n"
     ]
    }
   ],
   "source": [
    "#Sort the dataframes by date\n",
    "df_erster_tag = df_erster_tag.sort_index()\n",
    "df_naechster_tag = df_naechster_tag.sort_index()\n",
    "\n",
    "# Calculating the splitsizes\n",
    "test_size = 0.3\n",
    "split_index = int(len(df_erster_tag) * (1 - test_size))\n",
    "\n",
    "# Splitting of the data\n",
    "X_train = df_erster_tag.iloc[:split_index]\n",
    "X_test = df_erster_tag.iloc[split_index:]\n",
    "y_train = df_naechster_tag[\"Weather\"].iloc[:split_index]\n",
    "y_test = df_naechster_tag[\"Weather\"].iloc[split_index:]\n",
    "\n",
    "# Optional: Anzeigen der Größe der Daten\n",
    "print(f\"Trainingsdaten: {X_train.shape}, Trainingslabel: {y_train.shape}\")\n",
    "print(f\"Testdaten: {X_test.shape}, Testlabel: {y_test.shape}\")"
   ]
  },
  {
   "cell_type": "code",
   "execution_count": 8,
   "metadata": {},
   "outputs": [
    {
     "data": {
      "text/html": [
       "<div>\n",
       "<style scoped>\n",
       "    .dataframe tbody tr th:only-of-type {\n",
       "        vertical-align: middle;\n",
       "    }\n",
       "\n",
       "    .dataframe tbody tr th {\n",
       "        vertical-align: top;\n",
       "    }\n",
       "\n",
       "    .dataframe thead th {\n",
       "        text-align: right;\n",
       "    }\n",
       "</style>\n",
       "<table border=\"1\" class=\"dataframe\">\n",
       "  <thead>\n",
       "    <tr style=\"text-align: right;\">\n",
       "      <th></th>\n",
       "      <th>Temperature (C)</th>\n",
       "      <th>Humidity</th>\n",
       "    </tr>\n",
       "  </thead>\n",
       "  <tbody>\n",
       "    <tr>\n",
       "      <th>0</th>\n",
       "      <td>10.422222</td>\n",
       "      <td>62.0</td>\n",
       "    </tr>\n",
       "    <tr>\n",
       "      <th>1</th>\n",
       "      <td>9.911111</td>\n",
       "      <td>66.0</td>\n",
       "    </tr>\n",
       "    <tr>\n",
       "      <th>2</th>\n",
       "      <td>11.183333</td>\n",
       "      <td>80.0</td>\n",
       "    </tr>\n",
       "    <tr>\n",
       "      <th>3</th>\n",
       "      <td>7.155556</td>\n",
       "      <td>79.0</td>\n",
       "    </tr>\n",
       "    <tr>\n",
       "      <th>4</th>\n",
       "      <td>6.111111</td>\n",
       "      <td>82.0</td>\n",
       "    </tr>\n",
       "    <tr>\n",
       "      <th>...</th>\n",
       "      <td>...</td>\n",
       "      <td>...</td>\n",
       "    </tr>\n",
       "    <tr>\n",
       "      <th>67478</th>\n",
       "      <td>31.016667</td>\n",
       "      <td>35.0</td>\n",
       "    </tr>\n",
       "    <tr>\n",
       "      <th>67479</th>\n",
       "      <td>29.994444</td>\n",
       "      <td>36.0</td>\n",
       "    </tr>\n",
       "    <tr>\n",
       "      <th>67480</th>\n",
       "      <td>28.050000</td>\n",
       "      <td>41.0</td>\n",
       "    </tr>\n",
       "    <tr>\n",
       "      <th>67481</th>\n",
       "      <td>27.844444</td>\n",
       "      <td>42.0</td>\n",
       "    </tr>\n",
       "    <tr>\n",
       "      <th>67482</th>\n",
       "      <td>26.155556</td>\n",
       "      <td>47.0</td>\n",
       "    </tr>\n",
       "  </tbody>\n",
       "</table>\n",
       "<p>67483 rows × 2 columns</p>\n",
       "</div>"
      ],
      "text/plain": [
       "       Temperature (C)  Humidity\n",
       "0            10.422222      62.0\n",
       "1             9.911111      66.0\n",
       "2            11.183333      80.0\n",
       "3             7.155556      79.0\n",
       "4             6.111111      82.0\n",
       "...                ...       ...\n",
       "67478        31.016667      35.0\n",
       "67479        29.994444      36.0\n",
       "67480        28.050000      41.0\n",
       "67481        27.844444      42.0\n",
       "67482        26.155556      47.0\n",
       "\n",
       "[67483 rows x 2 columns]"
      ]
     },
     "execution_count": 8,
     "metadata": {},
     "output_type": "execute_result"
    }
   ],
   "source": [
    "X_train"
   ]
  },
  {
   "cell_type": "markdown",
   "metadata": {},
   "source": [
    "## Modelle Trainieren"
   ]
  },
  {
   "cell_type": "markdown",
   "metadata": {},
   "source": [
    "### knn"
   ]
  },
  {
   "cell_type": "code",
   "execution_count": 9,
   "metadata": {},
   "outputs": [
    {
     "name": "stdout",
     "output_type": "stream",
     "text": [
      "Vorhersagen: [1 0 1 ... 1 1 0]\n",
      "Genauigkeit: 0.5875458128760114\n",
      "F1-Score: 0.5913576041147499\n",
      "Konfusionsmatrix:\n",
      " [[ 6062  4763     0]\n",
      " [ 6998 10931     0]\n",
      " [   77    91     0]]\n",
      "ROC-AUC-Score: 0.6094607539356899\n"
     ]
    }
   ],
   "source": [
    "# Initialisieren des k-NN-Klassifikators mit k=3\n",
    "knn = KNeighborsClassifier(n_neighbors=3)\n",
    "\n",
    "# Trainieren des Modells\n",
    "knn.fit(X_train, y_train)\n",
    "\n",
    "# Vorhersagen mit dem Testdatensatz\n",
    "y_pred = knn.predict(X_test)\n",
    "\n",
    "# Berechnen der Genauigkeit\n",
    "accuracy = accuracy_score(y_test, y_pred)\n",
    "\n",
    "# Berechnen des F1-Scores\n",
    "f1 = f1_score(y_test, y_pred, average='weighted')  # Nutzen Sie 'weighted' für Multi-Klassen-Daten\n",
    "\n",
    "# Berechnen der Konfusionsmatrix\n",
    "conf_matrix = confusion_matrix(y_test, y_pred)\n",
    "\n",
    "# Berechnen des ROC-AUC-Scores\n",
    "# Binarisieren der Labels für Multi-Klassen ROC-AUC\n",
    "y_test_binarized = label_binarize(y_test, classes=np.unique(y_train))\n",
    "y_pred_proba = knn.predict_proba(X_test)\n",
    "\n",
    "if y_test_binarized.shape[1] == 1:\n",
    "    roc_auc = roc_auc_score(y_test_binarized, y_pred_proba[:, 1])\n",
    "else:\n",
    "    roc_auc = roc_auc_score(y_test_binarized, y_pred_proba, average='weighted', multi_class='ovr')\n",
    "\n",
    "print(\"Vorhersagen:\", y_pred)\n",
    "print(\"Genauigkeit:\", accuracy)\n",
    "print(\"F1-Score:\", f1)\n",
    "print(\"Konfusionsmatrix:\\n\", conf_matrix)\n",
    "print(\"ROC-AUC-Score:\", roc_auc)\n"
   ]
  },
  {
   "cell_type": "code",
   "execution_count": 10,
   "metadata": {},
   "outputs": [
    {
     "data": {
      "text/plain": [
       "['models/knn_tomorrow_model.pkl']"
      ]
     },
     "execution_count": 10,
     "metadata": {},
     "output_type": "execute_result"
    }
   ],
   "source": [
    "# Modell speichern\n",
    "joblib.dump(knn, 'models/knn_tomorrow_model.pkl')"
   ]
  },
  {
   "cell_type": "markdown",
   "metadata": {},
   "source": [
    "### Random Forest"
   ]
  },
  {
   "cell_type": "code",
   "execution_count": 11,
   "metadata": {},
   "outputs": [
    {
     "name": "stdout",
     "output_type": "stream",
     "text": [
      "Vorhersagen: [1 0 1 ... 1 0 0]\n",
      "Genauigkeit: 0.5822211465320517\n",
      "F1-Score: 0.5866947885457683\n",
      "Konfusionsmatrix:\n",
      " [[ 5981  4821    23]\n",
      " [ 7028 10858    43]\n",
      " [   71    97     0]]\n",
      "ROC-AUC-Score: 0.6094607539356899\n"
     ]
    }
   ],
   "source": [
    "# Initialisieren des Random Forest-Klassifikators\n",
    "rf = RandomForestClassifier(n_estimators=100, random_state=42)\n",
    "\n",
    "# Trainieren des Modells\n",
    "rf.fit(X_train, y_train)\n",
    "\n",
    "# Vorhersagen mit dem Testdatensatz\n",
    "y_pred = rf.predict(X_test)\n",
    "\n",
    "# Berechnen der Genauigkeit\n",
    "accuracy = accuracy_score(y_test, y_pred)\n",
    "\n",
    "# Berechnen des F1-Scores\n",
    "f1 = f1_score(y_test, y_pred, average='weighted')  # Nutzen Sie 'weighted' für Multi-Klassen-Daten\n",
    "\n",
    "# Berechnen der Konfusionsmatrix\n",
    "conf_matrix = confusion_matrix(y_test, y_pred)\n",
    "\n",
    "# Berechnen des ROC-AUC-Scores\n",
    "# Binarisieren der Labels für Multi-Klassen ROC-AUC\n",
    "y_test_binarized = label_binarize(y_test, classes=np.unique(y_train))\n",
    "y_pred_proba = knn.predict_proba(X_test)\n",
    "\n",
    "if y_test_binarized.shape[1] == 1:\n",
    "    roc_auc = roc_auc_score(y_test_binarized, y_pred_proba[:, 1])\n",
    "else:\n",
    "    roc_auc = roc_auc_score(y_test_binarized, y_pred_proba, average='weighted', multi_class='ovr')\n",
    "\n",
    "print(\"Vorhersagen:\", y_pred)\n",
    "print(\"Genauigkeit:\", accuracy)\n",
    "print(\"F1-Score:\", f1)\n",
    "print(\"Konfusionsmatrix:\\n\", conf_matrix)\n",
    "print(\"ROC-AUC-Score:\", roc_auc)\n"
   ]
  },
  {
   "cell_type": "code",
   "execution_count": 12,
   "metadata": {},
   "outputs": [
    {
     "data": {
      "text/plain": [
       "['models/rf_tomorrow_model.pkl']"
      ]
     },
     "execution_count": 12,
     "metadata": {},
     "output_type": "execute_result"
    }
   ],
   "source": [
    "# Modell speichern\n",
    "joblib.dump(rf, 'models/rf_tomorrow_model.pkl')"
   ]
  },
  {
   "cell_type": "markdown",
   "metadata": {},
   "source": [
    "### XGB"
   ]
  },
  {
   "cell_type": "code",
   "execution_count": 13,
   "metadata": {},
   "outputs": [
    {
     "name": "stderr",
     "output_type": "stream",
     "text": [
      "c:\\Users\\Katha\\anaconda3\\envs\\projekt_konzept\\Lib\\site-packages\\xgboost\\core.py:160: UserWarning: [15:11:29] WARNING: C:\\b\\abs_0fh_d4x2ng\\croot\\xgboost-split_1713973188995\\work\\cpp_src\\src\\learner.cc:742: \n",
      "Parameters: { \"scale_pos_weight\" } are not used.\n",
      "\n",
      "  warnings.warn(smsg, UserWarning)\n"
     ]
    },
    {
     "name": "stdout",
     "output_type": "stream",
     "text": [
      "Vorhersagen: [0 0 0 ... 0 0 0]\n",
      "Genauigkeit: 0.6321831132010235\n",
      "F1-Score: 0.6353933585808522\n",
      "Konfusionsmatrix:\n",
      " [[ 6812  4011     2]\n",
      " [ 6457 11472     0]\n",
      " [   50   118     0]]\n",
      "ROC-AUC-Score: 0.6818029919100833\n"
     ]
    }
   ],
   "source": [
    "# Initialisieren und Trainieren des XGBoost Modells\n",
    "xgb_model = xgb.XGBClassifier(scale_pos_weight=len(y_train)/sum(y_train == 1))\n",
    "xgb_model.fit(X_train, y_train)\n",
    "\n",
    "# Vorhersagen mit dem Testdatensatz\n",
    "y_pred = xgb_model.predict(X_test)\n",
    "y_pred_proba = xgb_model.predict_proba(X_test)\n",
    "\n",
    "# Berechnen der Genauigkeit\n",
    "accuracy = accuracy_score(y_test, y_pred)\n",
    "\n",
    "# Berechnen des F1-Scores\n",
    "f1 = f1_score(y_test, y_pred, average='weighted')  # Nutzen Sie 'weighted' für Multi-Klassen-Daten\n",
    "\n",
    "# Berechnen der Konfusionsmatrix\n",
    "conf_matrix = confusion_matrix(y_test, y_pred)\n",
    "\n",
    "# Berechnen des ROC-AUC-Scores\n",
    "# Binarisieren der Labels für Multi-Klassen ROC-AUC\n",
    "y_test_binarized = label_binarize(y_test, classes=np.unique(y_train))\n",
    "if y_test_binarized.shape[1] == 1:\n",
    "    roc_auc = roc_auc_score(y_test_binarized, y_pred_proba[:, 1])\n",
    "else:\n",
    "    roc_auc = roc_auc_score(y_test_binarized, y_pred_proba, average='weighted', multi_class='ovr')\n",
    "\n",
    "print(\"Vorhersagen:\", y_pred)\n",
    "print(\"Genauigkeit:\", accuracy)\n",
    "print(\"F1-Score:\", f1)\n",
    "print(\"Konfusionsmatrix:\\n\", conf_matrix)\n",
    "print(\"ROC-AUC-Score:\", roc_auc)\n"
   ]
  },
  {
   "cell_type": "code",
   "execution_count": 14,
   "metadata": {},
   "outputs": [
    {
     "data": {
      "text/plain": [
       "['models/xgb_tomorrow_model.pkl']"
      ]
     },
     "execution_count": 14,
     "metadata": {},
     "output_type": "execute_result"
    }
   ],
   "source": [
    "# Modell speichern\n",
    "joblib.dump(xgb_model, 'models/xgb_tomorrow_model.pkl')"
   ]
  },
  {
   "cell_type": "markdown",
   "metadata": {},
   "source": [
    "### SVM"
   ]
  },
  {
   "cell_type": "code",
   "execution_count": 15,
   "metadata": {},
   "outputs": [
    {
     "name": "stdout",
     "output_type": "stream",
     "text": [
      "Vorhersagen: [0 0 0 ... 0 0 0]\n",
      "Genauigkeit: 0.6409307793375285\n",
      "F1-Score: 0.6426810456818735\n",
      "Konfusionsmatrix:\n",
      " [[ 6471  4354     0]\n",
      " [ 5863 12066     0]\n",
      " [   34   134     0]]\n",
      "ROC-AUC-Score: 0.6094607539356899\n"
     ]
    }
   ],
   "source": [
    "# Initialisieren des SVM-Klassifikators\n",
    "svm = SVC(kernel='linear', random_state=42)\n",
    "\n",
    "# Trainieren des Modells\n",
    "svm.fit(X_train, y_train)\n",
    "\n",
    "# Vorhersagen mit dem Testdatensatz\n",
    "y_pred = svm.predict(X_test)\n",
    "\n",
    "# Berechnen der Genauigkeit\n",
    "accuracy = accuracy_score(y_test, y_pred)\n",
    "\n",
    "# Berechnen des F1-Scores\n",
    "f1 = f1_score(y_test, y_pred, average='weighted')\n",
    "\n",
    "# Berechnen der Konfusionsmatrix\n",
    "conf_matrix = confusion_matrix(y_test, y_pred)\n",
    "\n",
    "# Berechnen des ROC-AUC-Scores\n",
    "# Binarisieren der Labels für Multi-Klassen ROC-AUC\n",
    "y_test_binarized = label_binarize(y_test, classes=np.unique(y_train))\n",
    "y_pred_proba = knn.predict_proba(X_test)\n",
    "\n",
    "if y_test_binarized.shape[1] == 1:\n",
    "    roc_auc = roc_auc_score(y_test_binarized, y_pred_proba[:, 1])\n",
    "else:\n",
    "    roc_auc = roc_auc_score(y_test_binarized, y_pred_proba, average='weighted', multi_class='ovr')\n",
    "\n",
    "print(\"Vorhersagen:\", y_pred)\n",
    "print(\"Genauigkeit:\", accuracy)\n",
    "print(\"F1-Score:\", f1)\n",
    "print(\"Konfusionsmatrix:\\n\", conf_matrix)\n",
    "print(\"ROC-AUC-Score:\", roc_auc)"
   ]
  },
  {
   "cell_type": "code",
   "execution_count": 16,
   "metadata": {},
   "outputs": [
    {
     "data": {
      "text/plain": [
       "['models/svm_tomorrow_model.pkl']"
      ]
     },
     "execution_count": 16,
     "metadata": {},
     "output_type": "execute_result"
    }
   ],
   "source": [
    "# Modell speichern\n",
    "joblib.dump(svm, 'models/svm_tomorrow_model.pkl')"
   ]
  },
  {
   "cell_type": "markdown",
   "metadata": {},
   "source": [
    "# Vorhersage Regen"
   ]
  },
  {
   "cell_type": "markdown",
   "metadata": {},
   "source": [
    "## Aufbereiten des Datensatzes"
   ]
  },
  {
   "cell_type": "code",
   "execution_count": 17,
   "metadata": {},
   "outputs": [
    {
     "name": "stdout",
     "output_type": "stream",
     "text": [
      "['Light Rain', 'Rain']\n"
     ]
    }
   ],
   "source": [
    "df_rain = df\n",
    "df_rain = df_rain.drop(columns=[ 'Formatted Date','Precip Type', \n",
    "       'Apparent Temperature (C)','Wind Speed (km/h)',\n",
    "       'Wind Bearing (degrees)', 'Visibility (km)', 'Loud Cover',\n",
    "       'Pressure (millibars)'])\n",
    "\n",
    "# Given array\n",
    "weather_array = np.array(df_rain[\"Summary\"].unique())\n",
    "\n",
    "# Filtering for elements that imply rain\n",
    "rain_keywords = ['Rain', 'drizzle']\n",
    "rain_descriptions = [desc for desc in weather_array if any(keyword in desc for keyword in rain_keywords)]\n",
    "\n",
    "print(rain_descriptions)"
   ]
  },
  {
   "cell_type": "code",
   "execution_count": 18,
   "metadata": {},
   "outputs": [
    {
     "name": "stdout",
     "output_type": "stream",
     "text": [
      "[0 1]\n"
     ]
    }
   ],
   "source": [
    "# Function to classify rain\n",
    "#If Rain, then value 1 if not then value 0\n",
    "def classify_rain(summary):\n",
    "    if 'rain' in summary.lower():\n",
    "        return 1\n",
    "    return 0\n",
    "\n",
    "# Apply function to create new column\n",
    "df_rain['Rain'] = df_rain['Summary'].apply(classify_rain)\n",
    "\n",
    "# Display the DataFrame\n",
    "print(df_rain[\"Rain\"].unique())\n",
    "df_rain = df_rain.drop(columns =[\"Summary\", \"Daily Summary\"])\n"
   ]
  },
  {
   "cell_type": "code",
   "execution_count": 19,
   "metadata": {},
   "outputs": [
    {
     "data": {
      "text/html": [
       "<div>\n",
       "<style scoped>\n",
       "    .dataframe tbody tr th:only-of-type {\n",
       "        vertical-align: middle;\n",
       "    }\n",
       "\n",
       "    .dataframe tbody tr th {\n",
       "        vertical-align: top;\n",
       "    }\n",
       "\n",
       "    .dataframe thead th {\n",
       "        text-align: right;\n",
       "    }\n",
       "</style>\n",
       "<table border=\"1\" class=\"dataframe\">\n",
       "  <thead>\n",
       "    <tr style=\"text-align: right;\">\n",
       "      <th></th>\n",
       "      <th>Temperature (C)</th>\n",
       "      <th>Humidity</th>\n",
       "    </tr>\n",
       "    <tr>\n",
       "      <th>Rain</th>\n",
       "      <th></th>\n",
       "      <th></th>\n",
       "    </tr>\n",
       "  </thead>\n",
       "  <tbody>\n",
       "    <tr>\n",
       "      <th>0</th>\n",
       "      <td>96380</td>\n",
       "      <td>96380</td>\n",
       "    </tr>\n",
       "    <tr>\n",
       "      <th>1</th>\n",
       "      <td>73</td>\n",
       "      <td>73</td>\n",
       "    </tr>\n",
       "  </tbody>\n",
       "</table>\n",
       "</div>"
      ],
      "text/plain": [
       "      Temperature (C)  Humidity\n",
       "Rain                           \n",
       "0               96380     96380\n",
       "1                  73        73"
      ]
     },
     "execution_count": 19,
     "metadata": {},
     "output_type": "execute_result"
    }
   ],
   "source": [
    "#Test Dataframe, if it is balanced. Since it is inbalanced, a imblearn algorithm will be used for Training and Testing\n",
    "df_rain.groupby(\"Rain\").count()"
   ]
  },
  {
   "cell_type": "code",
   "execution_count": 20,
   "metadata": {},
   "outputs": [
    {
     "data": {
      "text/html": [
       "<div>\n",
       "<style scoped>\n",
       "    .dataframe tbody tr th:only-of-type {\n",
       "        vertical-align: middle;\n",
       "    }\n",
       "\n",
       "    .dataframe tbody tr th {\n",
       "        vertical-align: top;\n",
       "    }\n",
       "\n",
       "    .dataframe thead th {\n",
       "        text-align: right;\n",
       "    }\n",
       "</style>\n",
       "<table border=\"1\" class=\"dataframe\">\n",
       "  <thead>\n",
       "    <tr style=\"text-align: right;\">\n",
       "      <th></th>\n",
       "      <th>Temperature (C)</th>\n",
       "      <th>Humidity</th>\n",
       "      <th>Rain</th>\n",
       "    </tr>\n",
       "  </thead>\n",
       "  <tbody>\n",
       "    <tr>\n",
       "      <th>Temperature (C)</th>\n",
       "      <td>1.000000</td>\n",
       "      <td>-0.632255</td>\n",
       "      <td>-0.005477</td>\n",
       "    </tr>\n",
       "    <tr>\n",
       "      <th>Humidity</th>\n",
       "      <td>-0.632255</td>\n",
       "      <td>1.000000</td>\n",
       "      <td>0.022705</td>\n",
       "    </tr>\n",
       "    <tr>\n",
       "      <th>Rain</th>\n",
       "      <td>-0.005477</td>\n",
       "      <td>0.022705</td>\n",
       "      <td>1.000000</td>\n",
       "    </tr>\n",
       "  </tbody>\n",
       "</table>\n",
       "</div>"
      ],
      "text/plain": [
       "                 Temperature (C)  Humidity      Rain\n",
       "Temperature (C)         1.000000 -0.632255 -0.005477\n",
       "Humidity               -0.632255  1.000000  0.022705\n",
       "Rain                   -0.005477  0.022705  1.000000"
      ]
     },
     "execution_count": 20,
     "metadata": {},
     "output_type": "execute_result"
    }
   ],
   "source": [
    "df_rain.corr()"
   ]
  },
  {
   "cell_type": "markdown",
   "metadata": {},
   "source": [
    "## Splitten des Datensatzes"
   ]
  },
  {
   "cell_type": "code",
   "execution_count": 21,
   "metadata": {},
   "outputs": [
    {
     "name": "stdout",
     "output_type": "stream",
     "text": [
      "Trainingsdaten: (67517, 2), Trainingslabel: (67517,)\n",
      "Testdaten: (28936, 2), Testlabel: (28936,)\n"
     ]
    }
   ],
   "source": [
    "#Sort the dataframes by date\n",
    "df_rain = df_rain.sort_index()\n",
    "\n",
    "# Calculating the splitsizes\n",
    "test_size = 0.3\n",
    "split_index = int(len(df_rain) * (1 - test_size))\n",
    "df_rain_wo = df_rain.drop(columns = [\"Rain\"])\n",
    "# Splitting of the data\n",
    "X_train = df_rain_wo.iloc[:split_index]\n",
    "X_test = df_rain_wo.iloc[split_index:]\n",
    "y_train = df_rain[\"Rain\"].iloc[:split_index]\n",
    "y_test = df_rain[\"Rain\"].iloc[split_index:]\n",
    "\n",
    "# Optional: Anzeigen der Größe der Daten\n",
    "print(f\"Trainingsdaten: {X_train.shape}, Trainingslabel: {y_train.shape}\")\n",
    "print(f\"Testdaten: {X_test.shape}, Testlabel: {y_test.shape}\")"
   ]
  },
  {
   "cell_type": "markdown",
   "metadata": {},
   "source": [
    "## Trainieren der Modelle"
   ]
  },
  {
   "cell_type": "markdown",
   "metadata": {},
   "source": [
    "### knn"
   ]
  },
  {
   "cell_type": "code",
   "execution_count": 22,
   "metadata": {},
   "outputs": [
    {
     "name": "stdout",
     "output_type": "stream",
     "text": [
      "Vorhersagen: [0 0 0 ... 0 0 0]\n",
      "Genauigkeit: 0.9980646944982029\n",
      "F1-Score: 0.9970979790060919\n",
      "Konfusionsmatrix:\n",
      " [[28880     0]\n",
      " [   56     0]]\n",
      "ROC-AUC-Score: 0.5251514889196677\n"
     ]
    }
   ],
   "source": [
    "# Initialisieren des k-NN-Klassifikators\n",
    "knn = KNeighborsClassifier(n_neighbors=15)\n",
    "\n",
    "# Trainieren des Modells\n",
    "knn.fit(X_train, y_train)\n",
    "\n",
    "# Vorhersagen mit dem Testdatensatz\n",
    "y_pred = knn.predict(X_test)\n",
    "\n",
    "# Berechnen der Genauigkeit\n",
    "accuracy = accuracy_score(y_test, y_pred)\n",
    "\n",
    "# Berechnen des F1-Scores\n",
    "f1 = f1_score(y_test, y_pred, average='weighted')  # Nutzen Sie 'weighted' für Multi-Klassen-Daten\n",
    "\n",
    "# Berechnen der Konfusionsmatrix\n",
    "conf_matrix = confusion_matrix(y_test, y_pred)\n",
    "\n",
    "# Berechnen des ROC-AUC-Scores\n",
    "# Binarisieren der Labels für Multi-Klassen ROC-AUC\n",
    "y_test_binarized = label_binarize(y_test, classes=np.unique(y_train))\n",
    "y_pred_proba = knn.predict_proba(X_test)\n",
    "\n",
    "if y_test_binarized.shape[1] == 1:\n",
    "    roc_auc = roc_auc_score(y_test_binarized, y_pred_proba[:, 1])\n",
    "else:\n",
    "    roc_auc = roc_auc_score(y_test_binarized, y_pred_proba, average='weighted', multi_class='ovr')\n",
    "\n",
    "print(\"Vorhersagen:\", y_pred)\n",
    "print(\"Genauigkeit:\", accuracy)\n",
    "print(\"F1-Score:\", f1)\n",
    "print(\"Konfusionsmatrix:\\n\", conf_matrix)\n",
    "print(\"ROC-AUC-Score:\", roc_auc)\n"
   ]
  },
  {
   "cell_type": "code",
   "execution_count": 23,
   "metadata": {},
   "outputs": [
    {
     "data": {
      "text/plain": [
       "['models/knn_rain_model.pkl']"
      ]
     },
     "execution_count": 23,
     "metadata": {},
     "output_type": "execute_result"
    }
   ],
   "source": [
    "# Modell speichern\n",
    "joblib.dump(knn, 'models/knn_rain_model.pkl')"
   ]
  },
  {
   "cell_type": "markdown",
   "metadata": {},
   "source": [
    "### Random Forest"
   ]
  },
  {
   "cell_type": "code",
   "execution_count": 24,
   "metadata": {},
   "outputs": [
    {
     "name": "stdout",
     "output_type": "stream",
     "text": [
      "Vorhersagen: [0 0 0 ... 0 0 0]\n",
      "Genauigkeit: 0.9978918993641139\n",
      "F1-Score: 0.9970115740476937\n",
      "Konfusionsmatrix:\n",
      " [[28875     5]\n",
      " [   56     0]]\n",
      "ROC-AUC-Score: 0.5251514889196677\n"
     ]
    }
   ],
   "source": [
    "# Initialisieren des Random Forest-Klassifikators\n",
    "rf = RandomForestClassifier(n_estimators=100, random_state=42)\n",
    "\n",
    "# Trainieren des Modells\n",
    "rf.fit(X_train, y_train)\n",
    "\n",
    "# Vorhersagen mit dem Testdatensatz\n",
    "y_pred = rf.predict(X_test)\n",
    "\n",
    "# Berechnen der Genauigkeit\n",
    "accuracy = accuracy_score(y_test, y_pred)\n",
    "\n",
    "# Berechnen des F1-Scores\n",
    "f1 = f1_score(y_test, y_pred, average='weighted')  # Nutzen Sie 'weighted' für Multi-Klassen-Daten\n",
    "\n",
    "# Berechnen der Konfusionsmatrix\n",
    "conf_matrix = confusion_matrix(y_test, y_pred)\n",
    "\n",
    "# Berechnen des ROC-AUC-Scores\n",
    "# Binarisieren der Labels für Multi-Klassen ROC-AUC\n",
    "y_test_binarized = label_binarize(y_test, classes=np.unique(y_train))\n",
    "y_pred_proba = knn.predict_proba(X_test)\n",
    "\n",
    "if y_test_binarized.shape[1] == 1:\n",
    "    roc_auc = roc_auc_score(y_test_binarized, y_pred_proba[:, 1])\n",
    "else:\n",
    "    roc_auc = roc_auc_score(y_test_binarized, y_pred_proba, average='weighted', multi_class='ovr')\n",
    "\n",
    "print(\"Vorhersagen:\", y_pred)\n",
    "print(\"Genauigkeit:\", accuracy)\n",
    "print(\"F1-Score:\", f1)\n",
    "print(\"Konfusionsmatrix:\\n\", conf_matrix)\n",
    "print(\"ROC-AUC-Score:\", roc_auc)"
   ]
  },
  {
   "cell_type": "code",
   "execution_count": 25,
   "metadata": {},
   "outputs": [
    {
     "data": {
      "text/plain": [
       "['models/rf_rain_model.pkl']"
      ]
     },
     "execution_count": 25,
     "metadata": {},
     "output_type": "execute_result"
    }
   ],
   "source": [
    "# Modell speichern\n",
    "joblib.dump(rf, 'models/rf_rain_model.pkl')"
   ]
  },
  {
   "cell_type": "markdown",
   "metadata": {},
   "source": [
    "### xgb"
   ]
  },
  {
   "cell_type": "code",
   "execution_count": 26,
   "metadata": {},
   "outputs": [
    {
     "name": "stdout",
     "output_type": "stream",
     "text": [
      "Vorhersagen: [0 0 0 ... 0 0 0]\n",
      "Genauigkeit: 0.9960257119159525\n",
      "F1-Score: 0.9961423618885212\n",
      "Konfusionsmatrix:\n",
      " [[28819    61]\n",
      " [   54     2]]\n",
      "ROC-AUC-Score: 0.7688214162049861\n"
     ]
    }
   ],
   "source": [
    "# Initialisieren und Trainieren des XGBoost Modells\n",
    "xgb_model = xgb.XGBClassifier(scale_pos_weight=len(y_train)/sum(y_train == 1))\n",
    "xgb_model.fit(X_train, y_train)\n",
    "\n",
    "# Vorhersagen mit dem Testdatensatz\n",
    "y_pred = xgb_model.predict(X_test)\n",
    "y_pred_proba = xgb_model.predict_proba(X_test)[:, 1]\n",
    "\n",
    "# Berechnen der Genauigkeit\n",
    "accuracy = accuracy_score(y_test, y_pred)\n",
    "\n",
    "# Berechnen des F1-Scores\n",
    "f1 = f1_score(y_test, y_pred, average='weighted')  # Nutzen Sie 'weighted' für Multi-Klassen-Daten\n",
    "\n",
    "# Berechnen der Konfusionsmatrix\n",
    "conf_matrix = confusion_matrix(y_test, y_pred)\n",
    "\n",
    "# Berechnen des ROC-AUC-Scores\n",
    "# Binarisieren der Labels für Multi-Klassen ROC-AUC\n",
    "y_test_binarized = label_binarize(y_test, classes=np.unique(y_train))\n",
    "if y_test_binarized.shape[1] == 1:\n",
    "    roc_auc = roc_auc_score(y_test_binarized, y_pred_proba)\n",
    "else:\n",
    "    roc_auc = roc_auc_score(y_test_binarized, y_pred_proba, average='weighted', multi_class='ovr')\n",
    "\n",
    "print(\"Vorhersagen:\", y_pred)\n",
    "print(\"Genauigkeit:\", accuracy)\n",
    "print(\"F1-Score:\", f1)\n",
    "print(\"Konfusionsmatrix:\\n\", conf_matrix)\n",
    "print(\"ROC-AUC-Score:\", roc_auc)"
   ]
  },
  {
   "cell_type": "code",
   "execution_count": 27,
   "metadata": {},
   "outputs": [
    {
     "data": {
      "text/plain": [
       "['models/xgb_rain_model.pkl']"
      ]
     },
     "execution_count": 27,
     "metadata": {},
     "output_type": "execute_result"
    }
   ],
   "source": [
    "# Modell speichern\n",
    "joblib.dump(xgb_model, 'models/xgb_rain_model.pkl')"
   ]
  },
  {
   "cell_type": "markdown",
   "metadata": {},
   "source": [
    "### SVM"
   ]
  },
  {
   "cell_type": "code",
   "execution_count": 28,
   "metadata": {},
   "outputs": [
    {
     "name": "stdout",
     "output_type": "stream",
     "text": [
      "Vorhersagen: [0 0 0 ... 0 0 0]\n",
      "Genauigkeit: 0.9980646944982029\n",
      "F1-Score: 0.9970979790060919\n",
      "Konfusionsmatrix:\n",
      " [[28880     0]\n",
      " [   56     0]]\n",
      "ROC-AUC-Score: 0.5251514889196677\n"
     ]
    }
   ],
   "source": [
    "# Initialisieren des SVM-Klassifikators\n",
    "svm = SVC(kernel='linear', random_state=42)\n",
    "\n",
    "# Trainieren des Modells\n",
    "svm.fit(X_train, y_train)\n",
    "\n",
    "# Vorhersagen mit dem Testdatensatz\n",
    "y_pred = svm.predict(X_test)\n",
    "\n",
    "# Berechnen der Genauigkeit\n",
    "accuracy = accuracy_score(y_test, y_pred)\n",
    "\n",
    "# Berechnen des F1-Scores\n",
    "f1 = f1_score(y_test, y_pred, average='weighted')\n",
    "\n",
    "# Berechnen der Konfusionsmatrix\n",
    "conf_matrix = confusion_matrix(y_test, y_pred)\n",
    "\n",
    "# Berechnen des ROC-AUC-Scores\n",
    "# Binarisieren der Labels für Multi-Klassen ROC-AUC\n",
    "y_test_binarized = label_binarize(y_test, classes=np.unique(y_train))\n",
    "y_pred_proba = knn.predict_proba(X_test)\n",
    "\n",
    "if y_test_binarized.shape[1] == 1:\n",
    "    roc_auc = roc_auc_score(y_test_binarized, y_pred_proba[:, 1])\n",
    "else:\n",
    "    roc_auc = roc_auc_score(y_test_binarized, y_pred_proba, average='weighted', multi_class='ovr')\n",
    "\n",
    "print(\"Vorhersagen:\", y_pred)\n",
    "print(\"Genauigkeit:\", accuracy)\n",
    "print(\"F1-Score:\", f1)\n",
    "print(\"Konfusionsmatrix:\\n\", conf_matrix)\n",
    "print(\"ROC-AUC-Score:\", roc_auc)"
   ]
  },
  {
   "cell_type": "code",
   "execution_count": 29,
   "metadata": {},
   "outputs": [
    {
     "data": {
      "text/plain": [
       "['models/svm_rain_model.pkl']"
      ]
     },
     "execution_count": 29,
     "metadata": {},
     "output_type": "execute_result"
    }
   ],
   "source": [
    "# Modell speichern\n",
    "joblib.dump(svm, 'models/svm_rain_model.pkl')"
   ]
  }
 ],
 "metadata": {
  "kernelspec": {
   "display_name": "ml_projekt",
   "language": "python",
   "name": "python3"
  },
  "language_info": {
   "codemirror_mode": {
    "name": "ipython",
    "version": 3
   },
   "file_extension": ".py",
   "mimetype": "text/x-python",
   "name": "python",
   "nbconvert_exporter": "python",
   "pygments_lexer": "ipython3",
   "version": "3.12.4"
  }
 },
 "nbformat": 4,
 "nbformat_minor": 2
}
