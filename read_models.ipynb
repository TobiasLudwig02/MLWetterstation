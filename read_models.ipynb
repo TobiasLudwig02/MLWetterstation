{
 "cells": [
  {
   "cell_type": "code",
   "execution_count": 1,
   "metadata": {},
   "outputs": [],
   "source": [
    "import pandas as pd\n",
    "import joblib\n",
    "import xgboost as xgb"
   ]
  },
  {
   "cell_type": "code",
   "execution_count": 2,
   "metadata": {},
   "outputs": [],
   "source": [
    "# Definition des Mappings\n",
    "weather_mapping = {\n",
    "    0: 'gutes Wetter (Sonnenschein)',\n",
    "    1:'normales Wetter',\n",
    "    2: 'schlechtes Wetter (Regen oder Sturm)'\n",
    "}\n",
    "\n",
    "rain_mapping = {\n",
    "    0: 'es regnet nicht',\n",
    "    1: 'es regnet'\n",
    "}"
   ]
  },
  {
   "cell_type": "code",
   "execution_count": 3,
   "metadata": {},
   "outputs": [],
   "source": [
    "# Pfad zu Modell-Datei\n",
    "model_path = 'models/xgb_tomorrow_model.pkl'\n",
    "\n",
    "# Laden des Modells\n",
    "xgb_model_tomorrow = joblib.load(model_path)\n",
    "\n",
    "# Pfad zu Ihrer Modell-Datei\n",
    "model_path = 'models/xgb_rain_model.pkl'\n",
    "\n",
    "# Laden des Modells\n",
    "xgb_model_rain = joblib.load(model_path)"
   ]
  },
  {
   "cell_type": "code",
   "execution_count": 4,
   "metadata": {},
   "outputs": [
    {
     "data": {
      "text/plain": [
       "'gutes Wetter (Sonnenschein)'"
      ]
     },
     "execution_count": 4,
     "metadata": {},
     "output_type": "execute_result"
    }
   ],
   "source": [
    "df_tomorrow = pd.DataFrame({\"Temperature (C)\":34, \"Humidity\": 56}, index=[0])\n",
    "prediction= xgb_model_tomorrow.predict(df_tomorrow)\n",
    "\n",
    "weather_description = weather_mapping.get(prediction[0], 'unbekannter Wert')\n",
    "weather_description"
   ]
  },
  {
   "cell_type": "code",
   "execution_count": 5,
   "metadata": {},
   "outputs": [
    {
     "data": {
      "text/plain": [
       "'es regnet nicht'"
      ]
     },
     "execution_count": 5,
     "metadata": {},
     "output_type": "execute_result"
    }
   ],
   "source": [
    "df_rain = pd.DataFrame({\"Temperature (C)\":9.733333, \"Humidity\": 83.0}, index=[0])\n",
    "prediction= xgb_model_rain.predict(df_rain)\n",
    "\n",
    "rain_description = rain_mapping.get(prediction[0], 'unbekannter Wert')\n",
    "rain_description"
   ]
  }
 ],
 "metadata": {
  "kernelspec": {
   "display_name": "projekt_konzept",
   "language": "python",
   "name": "python3"
  },
  "language_info": {
   "codemirror_mode": {
    "name": "ipython",
    "version": 3
   },
   "file_extension": ".py",
   "mimetype": "text/x-python",
   "name": "python",
   "nbconvert_exporter": "python",
   "pygments_lexer": "ipython3",
   "version": "3.12.4"
  }
 },
 "nbformat": 4,
 "nbformat_minor": 2
}
